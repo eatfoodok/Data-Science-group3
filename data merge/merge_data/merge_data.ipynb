{
 "cells": [
  {
   "cell_type": "code",
   "execution_count": 5,
   "id": "065d03b3",
   "metadata": {},
   "outputs": [],
   "source": [
    "import pandas as pd\n",
    "from tqdm import trange"
   ]
  },
  {
   "cell_type": "code",
   "execution_count": 15,
   "id": "ff70b346",
   "metadata": {},
   "outputs": [],
   "source": [
    "gdp=pd.read_excel(\"gdp分省年度数据.xls\")\n",
    "cpi=pd.read_excel(\"cpi分省年度数据.xls\")"
   ]
  },
  {
   "cell_type": "code",
   "execution_count": 11,
   "id": "343260b2",
   "metadata": {},
   "outputs": [],
   "source": [
    "gdpcpi_panel_list=[]\n",
    "for i in range(len(gdp)):\n",
    "    province=gdp.loc[i,\"地区\"]\n",
    "    for j in range(1992,2018):\n",
    "        col=str(j)+\"年\"\n",
    "        num1=gdp.loc[i,col]\n",
    "        num2=cpi.loc[i,col]\n",
    "        gdpcpi_panel_list.append([province,j,num1,num2])\n",
    "gdpcpi_panel=pd.DataFrame(gdpcpi_panel_list,columns=[\"province\",\"year\",\"GDP\",\"CPI\"])"
   ]
  },
  {
   "cell_type": "code",
   "execution_count": 16,
   "id": "ca43a171",
   "metadata": {},
   "outputs": [],
   "source": [
    "gdpcpi_panel[\"real_GDP\"]=None\n",
    "for i in range(len(gdp)):\n",
    "    for j in range(26):\n",
    "        index=26*i+j\n",
    "        if j == 22: #use 2014 as gdp base\n",
    "            gdp=gdpcpi_panel.loc[index,\"GDP\"]\n",
    "        elif j<22:\n",
    "            gdp=gdpcpi_panel.loc[index,\"GDP\"]\n",
    "            for k in range(22-j):\n",
    "                gdp=gdp/100\n",
    "                gdp=gdp*gdpcpi_panel.loc[26*i+22-k-1,\"CPI\"]\n",
    "        elif j>22:\n",
    "            gdp=gdpcpi_panel.loc[index,\"GDP\"]\n",
    "            for k in range(j-22):\n",
    "                gdp=gdp/gdpcpi_panel.loc[26*i+22+k+1,\"CPI\"]\n",
    "                gdp=gdp*100\n",
    "        gdpcpi_panel.loc[index,\"real_GDP\"]=gdp"
   ]
  },
  {
   "cell_type": "code",
   "execution_count": 17,
   "id": "d9f717f6",
   "metadata": {},
   "outputs": [],
   "source": [
    "gdpcpi_panel.to_excel(\"GDP_CPI_panel.xlsx\",index=None)"
   ]
  },
  {
   "cell_type": "code",
   "execution_count": 74,
   "id": "9aedcdc3",
   "metadata": {},
   "outputs": [],
   "source": [
    "def province_to_code(name: str) -> str | None:\n",
    "    \"\"\"\n",
    "    将 31 个中国省级行政单位（港澳台除外）官方名称转为两位数字行政代码。\n",
    "    参数\n",
    "    ----\n",
    "    name : str\n",
    "        官方全称，如 \"北京市\"、\"四川省\"。\n",
    "    返回\n",
    "    ----\n",
    "    str | None\n",
    "        两位数字代码，如 \"11\"、\"51\"；若名称无效则返回 None。\n",
    "    \"\"\"\n",
    "    mapping = {\n",
    "        \"北京市\": \"11\",\n",
    "        \"天津市\": \"12\",\n",
    "        \"河北省\": \"13\",\n",
    "        \"山西省\": \"14\",\n",
    "        \"内蒙古自治区\": \"15\",\n",
    "        \"辽宁省\": \"21\",\n",
    "        \"吉林省\": \"22\",\n",
    "        \"黑龙江省\": \"23\",\n",
    "        \"上海市\": \"31\",\n",
    "        \"江苏省\": \"32\",\n",
    "        \"浙江省\": \"33\",\n",
    "        \"安徽省\": \"34\",\n",
    "        \"福建省\": \"35\",\n",
    "        \"江西省\": \"36\",\n",
    "        \"山东省\": \"37\",\n",
    "        \"河南省\": \"41\",\n",
    "        \"湖北省\": \"42\",\n",
    "        \"湖南省\": \"43\",\n",
    "        \"广东省\": \"44\",\n",
    "        \"广西壮族自治区\": \"45\",\n",
    "        \"海南省\": \"46\",\n",
    "        \"重庆市\": \"50\",\n",
    "        \"四川省\": \"51\",\n",
    "        \"贵州省\": \"52\",\n",
    "        \"云南省\": \"53\",\n",
    "        \"西藏自治区\": \"54\",\n",
    "        \"陕西省\": \"61\",\n",
    "        \"甘肃省\": \"62\",\n",
    "        \"青海省\": \"63\",\n",
    "        \"宁夏回族自治区\": \"64\",\n",
    "        \"新疆维吾尔自治区\": \"65\",\n",
    "    }\n",
    "    code = mapping.get(name)\n",
    "    if code is None:\n",
    "        print(f\"[warning] 未找到省份：{name}\")\n",
    "    return code"
   ]
  },
  {
   "cell_type": "code",
   "execution_count": 79,
   "id": "515e4121",
   "metadata": {},
   "outputs": [],
   "source": [
    "gdp=pd.read_excel(\"GDP_CPI_panel.xlsx\")\n",
    "gdp[\"pro_code\"]=None"
   ]
  },
  {
   "cell_type": "code",
   "execution_count": 82,
   "id": "f60fe321",
   "metadata": {},
   "outputs": [
    {
     "data": {
      "text/html": [
       "<div>\n",
       "<style scoped>\n",
       "    .dataframe tbody tr th:only-of-type {\n",
       "        vertical-align: middle;\n",
       "    }\n",
       "\n",
       "    .dataframe tbody tr th {\n",
       "        vertical-align: top;\n",
       "    }\n",
       "\n",
       "    .dataframe thead th {\n",
       "        text-align: right;\n",
       "    }\n",
       "</style>\n",
       "<table border=\"1\" class=\"dataframe\">\n",
       "  <thead>\n",
       "    <tr style=\"text-align: right;\">\n",
       "      <th></th>\n",
       "      <th>province</th>\n",
       "      <th>year</th>\n",
       "      <th>GDP</th>\n",
       "      <th>CPI</th>\n",
       "      <th>real_GDP</th>\n",
       "      <th>pro_code</th>\n",
       "    </tr>\n",
       "  </thead>\n",
       "  <tbody>\n",
       "    <tr>\n",
       "      <th>0</th>\n",
       "      <td>北京市</td>\n",
       "      <td>1992</td>\n",
       "      <td>712.9</td>\n",
       "      <td>109.9</td>\n",
       "      <td>2196.769296</td>\n",
       "      <td>11</td>\n",
       "    </tr>\n",
       "    <tr>\n",
       "      <th>1</th>\n",
       "      <td>北京市</td>\n",
       "      <td>1993</td>\n",
       "      <td>892.5</td>\n",
       "      <td>119.0</td>\n",
       "      <td>2502.455524</td>\n",
       "      <td>11</td>\n",
       "    </tr>\n",
       "    <tr>\n",
       "      <th>2</th>\n",
       "      <td>北京市</td>\n",
       "      <td>1994</td>\n",
       "      <td>1155.2</td>\n",
       "      <td>124.9</td>\n",
       "      <td>2721.876159</td>\n",
       "      <td>11</td>\n",
       "    </tr>\n",
       "    <tr>\n",
       "      <th>3</th>\n",
       "      <td>北京市</td>\n",
       "      <td>1995</td>\n",
       "      <td>1524.8</td>\n",
       "      <td>117.3</td>\n",
       "      <td>2876.481772</td>\n",
       "      <td>11</td>\n",
       "    </tr>\n",
       "    <tr>\n",
       "      <th>4</th>\n",
       "      <td>北京市</td>\n",
       "      <td>1996</td>\n",
       "      <td>1832.0</td>\n",
       "      <td>111.6</td>\n",
       "      <td>2946.294806</td>\n",
       "      <td>11</td>\n",
       "    </tr>\n",
       "    <tr>\n",
       "      <th>...</th>\n",
       "      <td>...</td>\n",
       "      <td>...</td>\n",
       "      <td>...</td>\n",
       "      <td>...</td>\n",
       "      <td>...</td>\n",
       "      <td>...</td>\n",
       "    </tr>\n",
       "    <tr>\n",
       "      <th>801</th>\n",
       "      <td>新疆维吾尔自治区</td>\n",
       "      <td>2013</td>\n",
       "      <td>8518.4</td>\n",
       "      <td>103.9</td>\n",
       "      <td>8850.617600</td>\n",
       "      <td>65</td>\n",
       "    </tr>\n",
       "    <tr>\n",
       "      <th>802</th>\n",
       "      <td>新疆维吾尔自治区</td>\n",
       "      <td>2014</td>\n",
       "      <td>9400.2</td>\n",
       "      <td>102.1</td>\n",
       "      <td>9400.200000</td>\n",
       "      <td>65</td>\n",
       "    </tr>\n",
       "    <tr>\n",
       "      <th>803</th>\n",
       "      <td>新疆维吾尔自治区</td>\n",
       "      <td>2015</td>\n",
       "      <td>9545.7</td>\n",
       "      <td>100.6</td>\n",
       "      <td>9488.767396</td>\n",
       "      <td>65</td>\n",
       "    </tr>\n",
       "    <tr>\n",
       "      <th>804</th>\n",
       "      <td>新疆维吾尔自治区</td>\n",
       "      <td>2016</td>\n",
       "      <td>9913.9</td>\n",
       "      <td>101.4</td>\n",
       "      <td>9718.709440</td>\n",
       "      <td>65</td>\n",
       "    </tr>\n",
       "    <tr>\n",
       "      <th>805</th>\n",
       "      <td>新疆维吾尔自治区</td>\n",
       "      <td>2017</td>\n",
       "      <td>11460.8</td>\n",
       "      <td>102.2</td>\n",
       "      <td>10993.300571</td>\n",
       "      <td>65</td>\n",
       "    </tr>\n",
       "  </tbody>\n",
       "</table>\n",
       "<p>806 rows × 6 columns</p>\n",
       "</div>"
      ],
      "text/plain": [
       "     province  year      GDP    CPI      real_GDP pro_code\n",
       "0         北京市  1992    712.9  109.9   2196.769296       11\n",
       "1         北京市  1993    892.5  119.0   2502.455524       11\n",
       "2         北京市  1994   1155.2  124.9   2721.876159       11\n",
       "3         北京市  1995   1524.8  117.3   2876.481772       11\n",
       "4         北京市  1996   1832.0  111.6   2946.294806       11\n",
       "..        ...   ...      ...    ...           ...      ...\n",
       "801  新疆维吾尔自治区  2013   8518.4  103.9   8850.617600       65\n",
       "802  新疆维吾尔自治区  2014   9400.2  102.1   9400.200000       65\n",
       "803  新疆维吾尔自治区  2015   9545.7  100.6   9488.767396       65\n",
       "804  新疆维吾尔自治区  2016   9913.9  101.4   9718.709440       65\n",
       "805  新疆维吾尔自治区  2017  11460.8  102.2  10993.300571       65\n",
       "\n",
       "[806 rows x 6 columns]"
      ]
     },
     "execution_count": 82,
     "metadata": {},
     "output_type": "execute_result"
    }
   ],
   "source": [
    "gdp"
   ]
  },
  {
   "cell_type": "code",
   "execution_count": 81,
   "id": "aad8dfa0",
   "metadata": {},
   "outputs": [],
   "source": [
    "for i in range(len(gdp)):\n",
    "    gdp.loc[i,\"pro_code\"]=int(province_to_code(gdp.loc[i,\"province\"]))"
   ]
  },
  {
   "cell_type": "code",
   "execution_count": 87,
   "id": "903e701d",
   "metadata": {},
   "outputs": [],
   "source": [
    "gdp.to_excel(\"china_correct_panel.xlsx\",index=None)"
   ]
  },
  {
   "cell_type": "code",
   "execution_count": 40,
   "id": "28c1d072",
   "metadata": {},
   "outputs": [
    {
     "name": "stderr",
     "output_type": "stream",
     "text": [
      "C:\\Users\\yunzh\\AppData\\Local\\Temp\\ipykernel_26504\\2911996292.py:1: DtypeWarning: Columns (92,110,128,146,164,182,275) have mixed types. Specify dtype option on import or set low_memory=False.\n",
      "  panel=pd.read_csv(\"疑似清洗完？/2017/clean_2017.csv\")\n"
     ]
    },
    {
     "data": {
      "text/plain": [
       "169989"
      ]
     },
     "execution_count": 40,
     "metadata": {},
     "output_type": "execute_result"
    }
   ],
   "source": [
    "panel=pd.read_csv(\"疑似清洗完？/2017/clean_2017.csv\")\n",
    "len(panel)"
   ]
  },
  {
   "cell_type": "code",
   "execution_count": 43,
   "id": "286bdf0c",
   "metadata": {},
   "outputs": [
    {
     "data": {
      "text/plain": [
       "1062277"
      ]
     },
     "execution_count": 43,
     "metadata": {},
     "output_type": "execute_result"
    }
   ],
   "source": [
    "len(panel)"
   ]
  },
  {
   "cell_type": "code",
   "execution_count": 93,
   "id": "29785a8c",
   "metadata": {},
   "outputs": [
    {
     "name": "stderr",
     "output_type": "stream",
     "text": [
      "C:\\Users\\yunzh\\AppData\\Local\\Temp\\ipykernel_26504\\782797467.py:1: DtypeWarning: Columns (121,192,212,218) have mixed types. Specify dtype option on import or set low_memory=False.\n",
      "  panel=pd.read_csv(\"疑似清洗完？/2011/clean_2011.csv\")\n"
     ]
    }
   ],
   "source": [
    "panel=pd.read_csv(\"疑似清洗完？/2011/clean_2011.csv\")"
   ]
  },
  {
   "cell_type": "code",
   "execution_count": 17,
   "id": "e0d793f0",
   "metadata": {},
   "outputs": [
    {
     "data": {
      "text/plain": [
       "True"
      ]
     },
     "execution_count": 17,
     "metadata": {},
     "output_type": "execute_result"
    }
   ],
   "source": [
    "\"Migrate_3\" in panel.columns.to_list()"
   ]
  },
  {
   "cell_type": "code",
   "execution_count": 94,
   "id": "3e86bbdc",
   "metadata": {},
   "outputs": [
    {
     "name": "stderr",
     "output_type": "stream",
     "text": [
      "C:\\Users\\yunzh\\AppData\\Local\\Temp\\ipykernel_26504\\813159782.py:4: DtypeWarning: Columns (9,160,162) have mixed types. Specify dtype option on import or set low_memory=False.\n",
      "  panel0=pd.read_csv(\"疑似清洗完？/\"+year+\"/clean_\"+year+\".csv\")\n",
      "C:\\Users\\yunzh\\AppData\\Local\\Temp\\ipykernel_26504\\813159782.py:4: DtypeWarning: Columns (9,168,171,283) have mixed types. Specify dtype option on import or set low_memory=False.\n",
      "  panel0=pd.read_csv(\"疑似清洗完？/\"+year+\"/clean_\"+year+\".csv\")\n",
      "C:\\Users\\yunzh\\AppData\\Local\\Temp\\ipykernel_26504\\813159782.py:4: DtypeWarning: Columns (3,164,170,173,176,229,235,246,317) have mixed types. Specify dtype option on import or set low_memory=False.\n",
      "  panel0=pd.read_csv(\"疑似清洗完？/\"+year+\"/clean_\"+year+\".csv\")\n",
      "C:\\Users\\yunzh\\AppData\\Local\\Temp\\ipykernel_26504\\813159782.py:4: DtypeWarning: Columns (174) have mixed types. Specify dtype option on import or set low_memory=False.\n",
      "  panel0=pd.read_csv(\"疑似清洗完？/\"+year+\"/clean_\"+year+\".csv\")\n",
      "C:\\Users\\yunzh\\AppData\\Local\\Temp\\ipykernel_26504\\813159782.py:4: DtypeWarning: Columns (92,110,128,146,164,182,275) have mixed types. Specify dtype option on import or set low_memory=False.\n",
      "  panel0=pd.read_csv(\"疑似清洗完？/\"+year+\"/clean_\"+year+\".csv\")\n"
     ]
    }
   ],
   "source": [
    "panel=panel[['pro_code','pro_name','city_clean', 'is_beijing', 'is_shanghai', 'male', 'birth_year', 'age', 'hs_residence', 'is_han', 'high_school', 'junior_college', 'bachelor', 'graduate', 'rural', 'Migrate', 'Migrate_1', 'Migrate_2','Migrate_3','migration_year', 'migration_interval', 'marriage', 'employed', 'income_total_m', 'exp_total_m', 'food_exp_m', 'income_to_home', 'rent_m', 'income_total_m_win', 'exp_total_m_win', 'food_exp_m_win', 'income_to_home_win', 'rent_m_win', 'employment_category', 'employment_group', 'workdays_w', 'workhours_d', 'hours_per_week', 'hours_per_week_filled', 'marriage_year', 'length_marriage', 'kids_number', 'birth_here', 'Pension_Insurance', 'Medical_Insurance', 'Work_Insurance', 'Unemploy_Insurance', 'Maternity_Insurance', 'Housing_Fund', 'Happiness']]\n",
    "panel[\"year\"]=2011\n",
    "for year in [\"2012\",\"2013\",\"2014\",\"2015\",\"2017\"]:\n",
    "    panel0=pd.read_csv(\"疑似清洗完？/\"+year+\"/clean_\"+year+\".csv\")\n",
    "    panel0=panel0[['pro_code','pro_name','city_clean', 'is_beijing', 'is_shanghai', 'male', 'birth_year', 'age', 'hs_residence', 'is_han', 'high_school', 'junior_college', 'bachelor', 'graduate', 'rural', 'Migrate', 'Migrate_1', 'Migrate_2','Migrate_3', 'migration_year', 'migration_interval', 'marriage', 'employed', 'income_total_m', 'exp_total_m', 'food_exp_m', 'income_to_home', 'rent_m', 'income_total_m_win', 'exp_total_m_win', 'food_exp_m_win', 'income_to_home_win', 'rent_m_win', 'employment_category', 'employment_group', 'workdays_w', 'workhours_d', 'hours_per_week', 'hours_per_week_filled', 'marriage_year', 'length_marriage', 'kids_number', 'birth_here', 'Pension_Insurance', 'Medical_Insurance', 'Work_Insurance', 'Unemploy_Insurance', 'Maternity_Insurance', 'Housing_Fund', 'Happiness']]\n",
    "    panel0[\"year\"]=int(year)\n",
    "    panel=pd.concat([panel,panel0],ignore_index=True,axis=0)"
   ]
  },
  {
   "cell_type": "code",
   "execution_count": 24,
   "id": "d4f3e5ba",
   "metadata": {},
   "outputs": [],
   "source": [
    "panel.to_csv(\"Migrate_3.csv\",index=None)"
   ]
  },
  {
   "cell_type": "code",
   "execution_count": 95,
   "id": "616a56e5",
   "metadata": {},
   "outputs": [
    {
     "name": "stderr",
     "output_type": "stream",
     "text": [
      "100%|██████████| 1062277/1062277 [03:45<00:00, 4713.01it/s]\n"
     ]
    }
   ],
   "source": [
    "for i in trange(len(panel)):\n",
    "    panel.loc[i,\"pro_name\"]=panel.loc[i,\"pro_name\"].strip()\n",
    "    if pd.notnull(panel.loc[i,\"hs_residence\"]):\n",
    "        panel.loc[i,\"hs_residence\"]=int(panel.loc[i,\"hs_residence\"])"
   ]
  },
  {
   "cell_type": "code",
   "execution_count": 123,
   "id": "60ccc0f2",
   "metadata": {},
   "outputs": [],
   "source": [
    "external_data1=pd.read_excel(\"merge_data/external_data.xlsx\")\n",
    "output_panel=pd.merge(panel,external_data1,how=\"left\",on=\"pro_code\")"
   ]
  },
  {
   "cell_type": "code",
   "execution_count": 124,
   "id": "4efa22c7",
   "metadata": {},
   "outputs": [],
   "source": [
    "external_data2=pd.read_excel(\"merge_data/external_data2.xlsx\")"
   ]
  },
  {
   "cell_type": "code",
   "execution_count": 125,
   "id": "69e9b9be",
   "metadata": {},
   "outputs": [],
   "source": [
    "output_panel=pd.merge(output_panel,external_data2,how=\"left\",on=\"hs_residence\",suffixes=(\"_a\",\"_b\"))"
   ]
  },
  {
   "cell_type": "code",
   "execution_count": 128,
   "id": "f3083bf9",
   "metadata": {},
   "outputs": [
    {
     "data": {
      "text/plain": [
       "1062277"
      ]
     },
     "execution_count": 128,
     "metadata": {},
     "output_type": "execute_result"
    }
   ],
   "source": [
    "len(output_panel)"
   ]
  },
  {
   "cell_type": "code",
   "execution_count": 126,
   "id": "633a4cbf",
   "metadata": {},
   "outputs": [],
   "source": [
    "external_data2=pd.read_excel(\"merge_data/china_panel.xlsx\")\n",
    "output_panel=pd.merge(output_panel,external_data2,how=\"left\",on=[\"pro_code\",\"year\"])"
   ]
  },
  {
   "cell_type": "code",
   "execution_count": 127,
   "id": "64c1804d",
   "metadata": {},
   "outputs": [],
   "source": [
    "external_data3=pd.read_excel(\"merge_data/china_panel2.xlsx\")\n",
    "output_panel=pd.merge(output_panel,external_data3,how=\"left\",on=[\"pro_code\",\"migration_year\"])"
   ]
  },
  {
   "cell_type": "code",
   "execution_count": 120,
   "id": "4cdec02a",
   "metadata": {},
   "outputs": [],
   "source": [
    "distance_data=pd.read_excel(\"merge_data/distance.xlsx\")\n",
    "output_panel=pd.merge(output_panel,distance_data,how=\"left\",on=[\"pro_code\",\"hs_residence\"])"
   ]
  },
  {
   "cell_type": "code",
   "execution_count": 121,
   "id": "ecfb0ab3",
   "metadata": {},
   "outputs": [
    {
     "data": {
      "text/plain": [
       "1062277"
      ]
     },
     "execution_count": 121,
     "metadata": {},
     "output_type": "execute_result"
    }
   ],
   "source": [
    "len(panel)"
   ]
  },
  {
   "cell_type": "code",
   "execution_count": null,
   "id": "2af45f72",
   "metadata": {},
   "outputs": [],
   "source": [
    "output_panel.to_excel"
   ]
  },
  {
   "cell_type": "code",
   "execution_count": 37,
   "id": "8c7f8ab1",
   "metadata": {},
   "outputs": [
    {
     "data": {
      "text/plain": [
       "Index(['pro_code', 'pro_name', 'city_clean', 'is_beijing', 'is_shanghai',\n",
       "       'male', 'birth_year', 'age', 'hs_residence', 'is_han', 'high_school',\n",
       "       'junior_college', 'bachelor', 'graduate', 'rural', 'Migrate',\n",
       "       'Migrate_1', 'Migrate_2', 'migration_year', 'migration_interval',\n",
       "       'marriage', 'employed', 'income_total_m', 'exp_total_m', 'food_exp_m',\n",
       "       'income_to_home', 'rent_m', 'income_total_m_win', 'exp_total_m_win',\n",
       "       'food_exp_m_win', 'income_to_home_win', 'rent_m_win',\n",
       "       'employment_category', 'employment_group', 'workdays_w', 'workhours_d',\n",
       "       'hours_per_week', 'hours_per_week_filled', 'marriage_year',\n",
       "       'length_marriage', 'kids_number', 'birth_here', 'Pension_Insurance',\n",
       "       'Medical_Insurance', 'Work_Insurance', 'Unemploy_Insurance',\n",
       "       'Maternity_Insurance', 'Housing_Fund', 'Happiness', 'year',\n",
       "       'pro_name_true', 'English_name', 'lowest_temp(Jan)_a', 'average_temp_a',\n",
       "       'highest_temp(July)_a', 'precipitation(mm)_a', 'gdp per capita(k)_a',\n",
       "       'unemployment(%)_a', 'education_budget(10k)_a', 'marriage(10k)_a',\n",
       "       'population(10k)_a', 'Medical technicians per 10k_a',\n",
       "       'road_length_per_10K (km)_a', 'manageable_income_per_capita_a',\n",
       "       'lowest_temp(Jan)_b', 'average_temp_b', 'highest_temp(July)_b',\n",
       "       'precipitation(mm)_b', 'gdp per capita(k)_b', 'unemployment(%)_b',\n",
       "       'education_budget(10k)_b', 'marriage(10k)_b', 'population(10k)_b',\n",
       "       'Medical technicians per 10k_b', 'road_length_per_10K (km)_b',\n",
       "       'manageable_income_per_capita_b', 'GDP_before_move', 'GDP_after_move',\n",
       "       'migration_distance_km'],\n",
       "      dtype='object')"
      ]
     },
     "execution_count": 37,
     "metadata": {},
     "output_type": "execute_result"
    }
   ],
   "source": [
    "output_panel.columns"
   ]
  },
  {
   "cell_type": "code",
   "execution_count": 129,
   "id": "c30394cc",
   "metadata": {},
   "outputs": [],
   "source": [
    "output_panel.to_csv(\"panel_data/after_merge_1021.csv\",index=None,encoding='utf-8-sig')"
   ]
  },
  {
   "cell_type": "code",
   "execution_count": null,
   "id": "6061abd8",
   "metadata": {},
   "outputs": [],
   "source": [
    "# 2. 一刀切\n",
    "df_after = output_panel[output_panel['migration_year'] > 2007]            # 2009 起\n",
    "df_before = output_panel[output_panel['migration_year'] <= 2007]            # 2008 止\n",
    "\n",
    "# 3. 各存各的\n",
    "df_after.to_csv('panel_data/2008及以后_1021.csv', index=False, encoding='utf-8-sig')\n",
    "df_before.to_csv('panel_data/2008以前_1021.csv', index=False, encoding='utf-8-sig')"
   ]
  },
  {
   "cell_type": "code",
   "execution_count": 45,
   "id": "fa9c9a5c",
   "metadata": {},
   "outputs": [
    {
     "data": {
      "text/plain": [
       "3022695"
      ]
     },
     "execution_count": 45,
     "metadata": {},
     "output_type": "execute_result"
    }
   ],
   "source": [
    "len(df_after)"
   ]
  },
  {
   "cell_type": "code",
   "execution_count": 131,
   "id": "be27c490",
   "metadata": {},
   "outputs": [
    {
     "data": {
      "text/plain": [
       "1062277"
      ]
     },
     "execution_count": 131,
     "metadata": {},
     "output_type": "execute_result"
    }
   ],
   "source": [
    "len(output_panel)"
   ]
  },
  {
   "cell_type": "code",
   "execution_count": 4,
   "id": "3aacb8b8",
   "metadata": {},
   "outputs": [
    {
     "name": "stderr",
     "output_type": "stream",
     "text": [
      "C:\\Users\\yunzh\\AppData\\Local\\Temp\\ipykernel_28828\\366591844.py:1: DtypeWarning: Columns (2) have mixed types. Specify dtype option on import or set low_memory=False.\n",
      "  output_panel=pd.read_csv(\"panel_data_1021/after_merge_1021.csv\")\n"
     ]
    }
   ],
   "source": [
    "output_panel=pd.read_csv(\"panel_data_1021/after_merge_1021.csv\")"
   ]
  },
  {
   "cell_type": "code",
   "execution_count": 6,
   "id": "8d8451d0",
   "metadata": {},
   "outputs": [
    {
     "name": "stderr",
     "output_type": "stream",
     "text": [
      "100%|██████████| 1062277/1062277 [00:16<00:00, 64057.24it/s]\n"
     ]
    },
    {
     "data": {
      "text/plain": [
       "0.4846805494235496"
      ]
     },
     "execution_count": 6,
     "metadata": {},
     "output_type": "execute_result"
    }
   ],
   "source": [
    "flag=0\n",
    "for i in trange(len(output_panel)):\n",
    "    if output_panel.loc[i,\"hs_residence\"]==output_panel.loc[i,\"pro_code\"]:\n",
    "        flag+=1\n",
    "flag/len(output_panel)"
   ]
  },
  {
   "cell_type": "code",
   "execution_count": 40,
   "id": "db7672fe",
   "metadata": {},
   "outputs": [
    {
     "name": "stdout",
     "output_type": "stream",
     "text": [
      "['pro_code', 'pro_name', 'city_clean', 'is_beijing', 'is_shanghai', 'male', 'birth_year', 'age', 'hs_residence', 'is_han', 'high_school', 'junior_college', 'bachelor', 'graduate', 'rural', 'Migrate', 'Migrate_1', 'Migrate_2', 'migration_year', 'migration_interval', 'marriage', 'employed', 'income_total_m', 'exp_total_m', 'food_exp_m', 'income_to_home', 'rent_m', 'income_total_m_win', 'exp_total_m_win', 'food_exp_m_win', 'income_to_home_win', 'rent_m_win', 'employment_category', 'employment_group', 'workdays_w', 'workhours_d', 'hours_per_week', 'hours_per_week_filled', 'marriage_year', 'length_marriage', 'kids_number', 'birth_here', 'Pension_Insurance', 'Medical_Insurance', 'Work_Insurance', 'Unemploy_Insurance', 'Maternity_Insurance', 'Housing_Fund', 'Happiness', 'year', 'English_name', 'lowest_temp(Jan)', 'average_temp', 'highest_temp(July)', 'precipitation(mm)', 'gdp per capita(k)', 'unemployment(%)', 'education_budget(10k)', 'marriage(10k)', 'population(10k)', 'Medical technicians per 10k', 'road_length_per_10K (km)', 'manageable_income_per_capita', 'GDP_before_move']\n"
     ]
    }
   ],
   "source": [
    "print(output_panel.columns.tolist())"
   ]
  },
  {
   "cell_type": "code",
   "execution_count": 90,
   "id": "22b35dde",
   "metadata": {},
   "outputs": [],
   "source": [
    "import pandas as pd\n",
    "\n",
    "# 1. 读入原始面板（示例自己造，你替换成自己的文件）\n",
    "# 假设列名依次是：province  year  value\n",
    "df = pd.read_excel('china_correct_panel.xlsx')   # 或 read_csv\n",
    "\n",
    "# 2. 建立 1980–1991 的“骨架”\n",
    "provs = df['pro_code'].unique()\n",
    "full_year = range(1980, 2018)        # 1980–2017\n",
    "idx = pd.MultiIndex.from_product([provs, full_year],\n",
    "                                 names=['pro_code', 'year'])\n",
    "full_df = pd.DataFrame(index=idx).reset_index()\n",
    "\n",
    "# 3. 把原数据合进来\n",
    "df = full_df.merge(df, on=['pro_code', 'year'], how='left')\n",
    "\n",
    "# 4. 用 1992 年的值向前填 1980–1991\n",
    "base_1992 = (df.query('year == 1992')\n",
    "               .set_index('pro_code')['real_GDP']\n",
    "               .rename('base_val'))\n",
    "df = df.merge(base_1992, left_on='pro_code', right_index=True, how='left')\n",
    "\n",
    "# 只有 1980–1991 的缺失才用 1992 值填\n",
    "mask = df['year'].le(1991) & df['real_GDP'].isna()\n",
    "df.loc[mask, 'real_GDP'] = df.loc[mask, 'base_val']\n",
    "\n",
    "# 5. 清理辅助列并排序\n",
    "df = df.drop(columns='base_val').sort_values(['pro_code', 'year'])\n",
    "\n",
    "# 6. 保存\n",
    "df.to_excel('china_panel.xlsx', index=None)"
   ]
  }
 ],
 "metadata": {
  "kernelspec": {
   "display_name": "Python 3",
   "language": "python",
   "name": "python3"
  },
  "language_info": {
   "codemirror_mode": {
    "name": "ipython",
    "version": 3
   },
   "file_extension": ".py",
   "mimetype": "text/x-python",
   "name": "python",
   "nbconvert_exporter": "python",
   "pygments_lexer": "ipython3",
   "version": "3.13.6"
  }
 },
 "nbformat": 4,
 "nbformat_minor": 5
}
